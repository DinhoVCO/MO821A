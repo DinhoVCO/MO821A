{
 "cells": [
  {
   "cell_type": "code",
   "execution_count": 1,
   "metadata": {},
   "outputs": [],
   "source": [
    "import numpy as np\n",
    "from flwr_datasets import FederatedDataset\n",
    "from flwr_datasets.partitioner import DirichletPartitioner"
   ]
  },
  {
   "cell_type": "code",
   "execution_count": 7,
   "metadata": {},
   "outputs": [
    {
     "name": "stderr",
     "output_type": "stream",
     "text": [
      "/home/guaragna/.local/lib/python3.8/site-packages/datasets/load.py:1486: FutureWarning: The repository for mnist contains custom code which must be executed to correctly load the dataset. You can inspect the repository content at https://hf.co/datasets/mnist\n",
      "You can avoid this message in future by passing the argument `trust_remote_code=True`.\n",
      "Passing `trust_remote_code=True` will be mandatory to load this dataset from the next major release of `datasets`.\n",
      "  warnings.warn(\n"
     ]
    }
   ],
   "source": [
    "partitioner = DirichletPartitioner(num_partitions=5, partition_by=\"label\",\n",
    "                                           alpha=0.5, min_partition_size=10, self_balancing=True)\n",
    "fds = FederatedDataset(dataset=\"mnist\", partitioners={\"train\": partitioner})\n",
    "\n",
    "partition = fds.load_partition(1 - 1, \"train\")\n",
    "partition.set_format(\"numpy\")\n",
    "\n",
    "partition = partition.train_test_split(test_size=0.2, seed=42)\n",
    "x_train, y_train = partition[\"train\"][\"image\"] / 255.0, partition[\"train\"][\"label\"]\n",
    "x_test, y_test = partition[\"test\"][\"image\"] / 255.0, partition[\"test\"][\"label\"]\n",
    "\n",
    "# Apply data sampling\n",
    "num_samples = int(1 * len(x_train))\n",
    "indices = np.random.choice(len(x_train), num_samples, replace=False)\n",
    "x_train, y_train = x_train[indices], y_train[indices]\n",
    "x_train = np.expand_dims(x_train, -1)\n",
    "x_test = np.expand_dims(x_test, -1)\n",
    "\n",
    "y_train = keras.utils.to_categorical(y_train, 10)\n",
    "y_test = keras.utils.to_categorical(y_test, 10)"
   ]
  },
  {
   "cell_type": "code",
   "execution_count": 10,
   "metadata": {},
   "outputs": [
    {
     "name": "stdout",
     "output_type": "stream",
     "text": [
      "3409\n"
     ]
    }
   ],
   "source": [
    "print(x_test.shape[0])"
   ]
  }
 ],
 "metadata": {
  "kernelspec": {
   "display_name": "Python 3",
   "language": "python",
   "name": "python3"
  },
  "language_info": {
   "codemirror_mode": {
    "name": "ipython",
    "version": 3
   },
   "file_extension": ".py",
   "mimetype": "text/x-python",
   "name": "python",
   "nbconvert_exporter": "python",
   "pygments_lexer": "ipython3",
   "version": "3.8.10"
  }
 },
 "nbformat": 4,
 "nbformat_minor": 2
}
